{
 "cells": [
  {
   "cell_type": "markdown",
   "metadata": {},
   "source": [
    "<center>\n",
    "    <img src=\"https://s3-api.us-geo.objectstorage.softlayer.net/cf-courses-data/CognitiveClass/Logos/organization_logo/organization_logo.png\" width=\"300\" alt=\"cognitiveclass.ai logo\"  />\n",
    "</center>\n"
   ]
  },
  {
   "cell_type": "markdown",
   "metadata": {},
   "source": [
    "#### Add your code below following the instructions given in the course\n"
   ]
  },
  {
   "cell_type": "markdown",
   "metadata": {},
   "source": [
    "# My Jupyter Notebook on IBM Watson Studio"
   ]
  },
  {
   "cell_type": "markdown",
   "metadata": {},
   "source": [
    "Luiza Sodré\n",
    "Big Data Psychologist"
   ]
  },
  {
   "cell_type": "markdown",
   "metadata": {},
   "source": [
    "*I am interested in data science because Big Data can give us insights about human behavior*"
   ]
  },
  {
   "cell_type": "markdown",
   "metadata": {},
   "source": [
    "### The following code prints the Fibonacci sequence in Python"
   ]
  },
  {
   "cell_type": "code",
   "execution_count": 10,
   "metadata": {},
   "outputs": [
    {
     "name": "stdout",
     "output_type": "stream",
     "text": [
      "34\n"
     ]
    }
   ],
   "source": [
    "def Fibonacci(n):\n",
    "\n",
    " # Check if input is 0 then it will\n",
    " # print incorrect input\n",
    " if n < 0:\n",
    "  print(\"Incorrect input\")\n",
    "\n",
    " # Check if n is 0\n",
    " # then it will return 0\n",
    " elif n == 0:\n",
    "  return 0\n",
    "\n",
    " # Check if n is 1,2\n",
    " # it will return 1\n",
    " elif n == 1 or n == 2:\n",
    "  return 1\n",
    "\n",
    " else:\n",
    "  return Fibonacci(n-1) + Fibonacci(n-2)\n",
    "\n",
    "# Driver Program\n",
    "print(Fibonacci(9))"
   ]
  },
  {
   "cell_type": "markdown",
   "metadata": {},
   "source": [
    "| Movie Title | A New Hope| The Empire Strikes Back | Return of the Jedi |\n",
    "| ----------- |:---------:|:-----------------------:| -------------------|\n",
    "| Year        |1977       |1980                     |1983                |\n",
    "| R. Tomatoes |93%        | 94%                     |80%                 |"
   ]
  },
  {
   "cell_type": "markdown",
   "metadata": {},
   "source": [
    "***"
   ]
  },
  {
   "cell_type": "markdown",
   "metadata": {},
   "source": [
    "1. Star Wars (1977)\n",
    "2. The Empire Strikes Back (1980)\n",
    "3. Return of the Jedi (1983)\n",
    "4. The Phantom Menace (1999)\n",
    "5. Attack of the Clones (2002)\n",
    "6. Revenge of the Sith (2005)\n",
    "7. Star Wars: The Clone Wars (2008)\n",
    "8. The Force Awakens (2015)\n",
    "9. Rogue One (2016)\n",
    "10. The Last Jedi (2017)\n",
    "11. Solo (2018)\n",
    "12. The Rise of Skywalker (2019)"
   ]
  },
  {
   "cell_type": "code",
   "execution_count": null,
   "metadata": {},
   "outputs": [],
   "source": []
  }
 ],
 "metadata": {
  "kernelspec": {
   "display_name": "Python",
   "language": "python",
   "name": "conda-env-python-py"
  },
  "language_info": {
   "codemirror_mode": {
    "name": "ipython",
    "version": 3
   },
   "file_extension": ".py",
   "mimetype": "text/x-python",
   "name": "python",
   "nbconvert_exporter": "python",
   "pygments_lexer": "ipython3",
   "version": "3.7.12"
  }
 },
 "nbformat": 4,
 "nbformat_minor": 4
}
